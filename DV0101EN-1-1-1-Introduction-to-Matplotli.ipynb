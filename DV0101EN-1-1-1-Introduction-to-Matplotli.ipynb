{
    "nbformat_minor": 4, 
    "cells": [
        {
            "source": "<a href=\"https://cognitiveclass.ai\"><img src = \"https://ibm.box.com/shared/static/9gegpsmnsoo25ikkbl4qzlvlyjbgxs5x.png\" width = 400> </a>\n\n<h1 align=center><font size = 5>Introduction to Matplotlib and Line Plots</font></h1>", 
            "cell_type": "markdown", 
            "metadata": {
                "button": false, 
                "new_sheet": false, 
                "run_control": {
                    "read_only": false
                }, 
                "deletable": true
            }
        }, 
        {
            "source": "## Introduction\n\nThe aim of these labs is to introduce you to data visualization with Python as concrete and as consistent as possible. \nSpeaking of consistency, because there is no *best* data visualization library avaiblable for Python - up to creating these labs - we have to introduce different libraries and show their benefits when we are discussing new visualization concepts. Doing so, we hope to make students well-rounded with visualization libraries and concepts so that they are able to judge and decide on the best visualitzation technique and tool for a given problem _and_ audience.\n\nPlease make sure that you have completed the prerequisites for this course, namely <a href='http://cocl.us/PY0101EN_DV0101EN_LAB1_Coursera'>**Python for Data Science**</a> and <a href='http://cocl.us/DA0101EN_DV0101EN_LAB1_Coursera'>**Data Analysis with Python**</a>, which are part of this specialization. \n\n**Note**: The majority of the plots and visualizations will be generated using data stored in *pandas* dataframes. Therefore, in this lab, we provide a brief crash course on *pandas*. However, if you are interested in learning more about the *pandas* library, detailed description and explanation of how to use it and how to clean, munge, and process data stored in a *pandas* dataframe are provided in our course <a href='http://cocl.us/DA0101EN_DV0101EN_LAB1_Coursera'>**Data Analysis with Python**</a>, which is also part of this specialization. \n\n------------", 
            "cell_type": "markdown", 
            "metadata": {
                "button": false, 
                "new_sheet": false, 
                "run_control": {
                    "read_only": false
                }, 
                "deletable": true
            }
        }, 
        {
            "source": "## Table of Contents\n\n<div class=\"alert alert-block alert-info\" style=\"margin-top: 20px\">\n\n1. [Exploring Datasets with *pandas*](#0)<br>\n1.1 [The Dataset: Immigration to Canada from 1980 to 2013](#2)<br>\n1.2 [*pandas* Basics](#4) <br>\n1.3 [*pandas* Intermediate: Indexing and Selection](#6) <br>\n2. [Visualizing Data using Matplotlib](#8) <br>\n2.1 [Matplotlib: Standard Python Visualization Library](#10) <br>\n3. [Line Plots](#12)\n</div>\n<hr>", 
            "cell_type": "markdown", 
            "metadata": {
                "button": false, 
                "new_sheet": false, 
                "run_control": {
                    "read_only": false
                }, 
                "deletable": true
            }
        }, 
        {
            "source": "# Exploring Datasets with *pandas* <a id=\"0\"></a>\n\n*pandas* is an essential data analysis toolkit for Python. From their [website](http://pandas.pydata.org/):\n>*pandas* is a Python package providing fast, flexible, and expressive data structures designed to make working with \u201crelational\u201d or \u201clabeled\u201d data both easy and intuitive. It aims to be the fundamental high-level building block for doing practical, **real world** data analysis in Python.\n\nThe course heavily relies on *pandas* for data wrangling, analysis, and visualization. We encourage you to spend some time and  familizare yourself with the *pandas* API Reference: http://pandas.pydata.org/pandas-docs/stable/api.html.", 
            "cell_type": "markdown", 
            "metadata": {
                "button": false, 
                "new_sheet": false, 
                "run_control": {
                    "read_only": false
                }, 
                "deletable": true
            }
        }, 
        {
            "source": "## The Dataset: Immigration to Canada from 1980 to 2013 <a id=\"2\"></a>", 
            "cell_type": "markdown", 
            "metadata": {
                "button": false, 
                "new_sheet": false, 
                "run_control": {
                    "read_only": false
                }, 
                "deletable": true
            }
        }, 
        {
            "source": "Dataset Source: [International migration flows to and from selected countries - The 2015 revision](http://www.un.org/en/development/desa/population/migration/data/empirical2/migrationflows.shtml).\n\nThe dataset contains annual data on the flows of international immigrants as recorded by the countries of destination. The data presents both inflows and outflows according to the place of birth, citizenship or place of previous / next residence both for foreigners and nationals. The current version presents data pertaining to 45 countries.\n\nIn this lab, we will focus on the Canadian immigration data.\n\n<img src = \"https://s3-api.us-geo.objectstorage.softlayer.net/cf-courses-data/CognitiveClass/DV0101EN/labs/Images/Mod1Fig1-Dataset.png\" align=\"center\" width=900>\n\nFor sake of simplicity, Canada's immigration data has been extracted and uploaded to one of IBM servers. You can fetch the data from [here](https://ibm.box.com/shared/static/lw190pt9zpy5bd1ptyg2aw15awomz9pu.xlsx).\n\n---", 
            "cell_type": "markdown", 
            "metadata": {
                "button": false, 
                "new_sheet": false, 
                "run_control": {
                    "read_only": false
                }, 
                "deletable": true
            }
        }, 
        {
            "source": "## *pandas* Basics<a id=\"4\"></a>", 
            "cell_type": "markdown", 
            "metadata": {
                "button": false, 
                "new_sheet": false, 
                "run_control": {
                    "read_only": false
                }, 
                "deletable": true
            }
        }, 
        {
            "source": "The first thing we'll do is import two key data analysis modules: *pandas* and **Numpy**.", 
            "cell_type": "markdown", 
            "metadata": {
                "button": false, 
                "new_sheet": false, 
                "run_control": {
                    "read_only": false
                }, 
                "deletable": true
            }
        }, 
        {
            "execution_count": 1, 
            "cell_type": "code", 
            "source": "import numpy as np  # useful for many scientific computing in Python\nimport pandas as pd # primary data structure library", 
            "outputs": [], 
            "metadata": {
                "button": false, 
                "new_sheet": false, 
                "run_control": {
                    "read_only": false
                }, 
                "deletable": true
            }
        }, 
        {
            "source": "Let's download and import our primary Canadian Immigration dataset using *pandas* `read_excel()` method. Normally, before we can do that, we would need to download a module which *pandas* requires to read in excel files. This module is **xlrd**. For your convenience, we have pre-installed this module, so you would not have to worry about that. Otherwise, you would need to run the following line of code to install the **xlrd** module:\n```\n!conda install -c anaconda xlrd --yes\n```", 
            "cell_type": "markdown", 
            "metadata": {
                "button": false, 
                "new_sheet": false, 
                "run_control": {
                    "read_only": false
                }, 
                "deletable": true
            }
        }, 
        {
            "source": "Now we are ready to read in our data.", 
            "cell_type": "markdown", 
            "metadata": {
                "button": false, 
                "new_sheet": false, 
                "run_control": {
                    "read_only": false
                }, 
                "deletable": true
            }
        }, 
        {
            "execution_count": 3, 
            "cell_type": "code", 
            "source": "df_can = pd.read_excel('https://s3-api.us-geo.objectstorage.softlayer.net/cf-courses-data/CognitiveClass/DV0101EN/labs/Data_Files/Canada.xlsx',\n                       sheet_name='Canada by Citizenship',\n                       skiprows=range(20),\n                       skipfooter=2)\n\nprint ('Data read into a pandas dataframe!')", 
            "outputs": [
                {
                    "ename": "ImportError", 
                    "evalue": "Missing optional dependency 'xlrd'. Install xlrd >= 1.0.0 for Excel support Use pip or conda to install xlrd.", 
                    "traceback": [
                        "\u001b[0;31m---------------------------------------------------------------------------\u001b[0m", 
                        "\u001b[0;31mImportError\u001b[0m                               Traceback (most recent call last)", 
                        "\u001b[0;32m<ipython-input-3-4c573e5ca565>\u001b[0m in \u001b[0;36m<module>\u001b[0;34m\u001b[0m\n\u001b[1;32m      2\u001b[0m                        \u001b[0msheet_name\u001b[0m\u001b[0;34m=\u001b[0m\u001b[0;34m'Canada by Citizenship'\u001b[0m\u001b[0;34m,\u001b[0m\u001b[0;34m\u001b[0m\u001b[0;34m\u001b[0m\u001b[0m\n\u001b[1;32m      3\u001b[0m                        \u001b[0mskiprows\u001b[0m\u001b[0;34m=\u001b[0m\u001b[0mrange\u001b[0m\u001b[0;34m(\u001b[0m\u001b[0;36m20\u001b[0m\u001b[0;34m)\u001b[0m\u001b[0;34m,\u001b[0m\u001b[0;34m\u001b[0m\u001b[0;34m\u001b[0m\u001b[0m\n\u001b[0;32m----> 4\u001b[0;31m                        skipfooter=2)\n\u001b[0m\u001b[1;32m      5\u001b[0m \u001b[0;34m\u001b[0m\u001b[0m\n\u001b[1;32m      6\u001b[0m \u001b[0mprint\u001b[0m \u001b[0;34m(\u001b[0m\u001b[0;34m'Data read into a pandas dataframe!'\u001b[0m\u001b[0;34m)\u001b[0m\u001b[0;34m\u001b[0m\u001b[0;34m\u001b[0m\u001b[0m\n", 
                        "\u001b[0;32m~/conda/envs/python/lib/python3.6/site-packages/pandas/util/_decorators.py\u001b[0m in \u001b[0;36mwrapper\u001b[0;34m(*args, **kwargs)\u001b[0m\n\u001b[1;32m    206\u001b[0m                 \u001b[0;32melse\u001b[0m\u001b[0;34m:\u001b[0m\u001b[0;34m\u001b[0m\u001b[0;34m\u001b[0m\u001b[0m\n\u001b[1;32m    207\u001b[0m                     \u001b[0mkwargs\u001b[0m\u001b[0;34m[\u001b[0m\u001b[0mnew_arg_name\u001b[0m\u001b[0;34m]\u001b[0m \u001b[0;34m=\u001b[0m \u001b[0mnew_arg_value\u001b[0m\u001b[0;34m\u001b[0m\u001b[0;34m\u001b[0m\u001b[0m\n\u001b[0;32m--> 208\u001b[0;31m             \u001b[0;32mreturn\u001b[0m \u001b[0mfunc\u001b[0m\u001b[0;34m(\u001b[0m\u001b[0;34m*\u001b[0m\u001b[0margs\u001b[0m\u001b[0;34m,\u001b[0m \u001b[0;34m**\u001b[0m\u001b[0mkwargs\u001b[0m\u001b[0;34m)\u001b[0m\u001b[0;34m\u001b[0m\u001b[0;34m\u001b[0m\u001b[0m\n\u001b[0m\u001b[1;32m    209\u001b[0m \u001b[0;34m\u001b[0m\u001b[0m\n\u001b[1;32m    210\u001b[0m         \u001b[0;32mreturn\u001b[0m \u001b[0mwrapper\u001b[0m\u001b[0;34m\u001b[0m\u001b[0;34m\u001b[0m\u001b[0m\n", 
                        "\u001b[0;32m~/conda/envs/python/lib/python3.6/site-packages/pandas/io/excel/_base.py\u001b[0m in \u001b[0;36mread_excel\u001b[0;34m(io, sheet_name, header, names, index_col, usecols, squeeze, dtype, engine, converters, true_values, false_values, skiprows, nrows, na_values, keep_default_na, verbose, parse_dates, date_parser, thousands, comment, skip_footer, skipfooter, convert_float, mangle_dupe_cols, **kwds)\u001b[0m\n\u001b[1;32m    308\u001b[0m \u001b[0;34m\u001b[0m\u001b[0m\n\u001b[1;32m    309\u001b[0m     \u001b[0;32mif\u001b[0m \u001b[0;32mnot\u001b[0m \u001b[0misinstance\u001b[0m\u001b[0;34m(\u001b[0m\u001b[0mio\u001b[0m\u001b[0;34m,\u001b[0m \u001b[0mExcelFile\u001b[0m\u001b[0;34m)\u001b[0m\u001b[0;34m:\u001b[0m\u001b[0;34m\u001b[0m\u001b[0;34m\u001b[0m\u001b[0m\n\u001b[0;32m--> 310\u001b[0;31m         \u001b[0mio\u001b[0m \u001b[0;34m=\u001b[0m \u001b[0mExcelFile\u001b[0m\u001b[0;34m(\u001b[0m\u001b[0mio\u001b[0m\u001b[0;34m,\u001b[0m \u001b[0mengine\u001b[0m\u001b[0;34m=\u001b[0m\u001b[0mengine\u001b[0m\u001b[0;34m)\u001b[0m\u001b[0;34m\u001b[0m\u001b[0;34m\u001b[0m\u001b[0m\n\u001b[0m\u001b[1;32m    311\u001b[0m     \u001b[0;32melif\u001b[0m \u001b[0mengine\u001b[0m \u001b[0;32mand\u001b[0m \u001b[0mengine\u001b[0m \u001b[0;34m!=\u001b[0m \u001b[0mio\u001b[0m\u001b[0;34m.\u001b[0m\u001b[0mengine\u001b[0m\u001b[0;34m:\u001b[0m\u001b[0;34m\u001b[0m\u001b[0;34m\u001b[0m\u001b[0m\n\u001b[1;32m    312\u001b[0m         raise ValueError(\n", 
                        "\u001b[0;32m~/conda/envs/python/lib/python3.6/site-packages/pandas/io/excel/_base.py\u001b[0m in \u001b[0;36m__init__\u001b[0;34m(self, io, engine)\u001b[0m\n\u001b[1;32m    817\u001b[0m         \u001b[0mself\u001b[0m\u001b[0;34m.\u001b[0m\u001b[0m_io\u001b[0m \u001b[0;34m=\u001b[0m \u001b[0m_stringify_path\u001b[0m\u001b[0;34m(\u001b[0m\u001b[0mio\u001b[0m\u001b[0;34m)\u001b[0m\u001b[0;34m\u001b[0m\u001b[0;34m\u001b[0m\u001b[0m\n\u001b[1;32m    818\u001b[0m \u001b[0;34m\u001b[0m\u001b[0m\n\u001b[0;32m--> 819\u001b[0;31m         \u001b[0mself\u001b[0m\u001b[0;34m.\u001b[0m\u001b[0m_reader\u001b[0m \u001b[0;34m=\u001b[0m \u001b[0mself\u001b[0m\u001b[0;34m.\u001b[0m\u001b[0m_engines\u001b[0m\u001b[0;34m[\u001b[0m\u001b[0mengine\u001b[0m\u001b[0;34m]\u001b[0m\u001b[0;34m(\u001b[0m\u001b[0mself\u001b[0m\u001b[0;34m.\u001b[0m\u001b[0m_io\u001b[0m\u001b[0;34m)\u001b[0m\u001b[0;34m\u001b[0m\u001b[0;34m\u001b[0m\u001b[0m\n\u001b[0m\u001b[1;32m    820\u001b[0m \u001b[0;34m\u001b[0m\u001b[0m\n\u001b[1;32m    821\u001b[0m     \u001b[0;32mdef\u001b[0m \u001b[0m__fspath__\u001b[0m\u001b[0;34m(\u001b[0m\u001b[0mself\u001b[0m\u001b[0;34m)\u001b[0m\u001b[0;34m:\u001b[0m\u001b[0;34m\u001b[0m\u001b[0;34m\u001b[0m\u001b[0m\n", 
                        "\u001b[0;32m~/conda/envs/python/lib/python3.6/site-packages/pandas/io/excel/_xlrd.py\u001b[0m in \u001b[0;36m__init__\u001b[0;34m(self, filepath_or_buffer)\u001b[0m\n\u001b[1;32m     18\u001b[0m         \"\"\"\n\u001b[1;32m     19\u001b[0m         \u001b[0merr_msg\u001b[0m \u001b[0;34m=\u001b[0m \u001b[0;34m\"Install xlrd >= 1.0.0 for Excel support\"\u001b[0m\u001b[0;34m\u001b[0m\u001b[0;34m\u001b[0m\u001b[0m\n\u001b[0;32m---> 20\u001b[0;31m         \u001b[0mimport_optional_dependency\u001b[0m\u001b[0;34m(\u001b[0m\u001b[0;34m\"xlrd\"\u001b[0m\u001b[0;34m,\u001b[0m \u001b[0mextra\u001b[0m\u001b[0;34m=\u001b[0m\u001b[0merr_msg\u001b[0m\u001b[0;34m)\u001b[0m\u001b[0;34m\u001b[0m\u001b[0;34m\u001b[0m\u001b[0m\n\u001b[0m\u001b[1;32m     21\u001b[0m         \u001b[0msuper\u001b[0m\u001b[0;34m(\u001b[0m\u001b[0;34m)\u001b[0m\u001b[0;34m.\u001b[0m\u001b[0m__init__\u001b[0m\u001b[0;34m(\u001b[0m\u001b[0mfilepath_or_buffer\u001b[0m\u001b[0;34m)\u001b[0m\u001b[0;34m\u001b[0m\u001b[0;34m\u001b[0m\u001b[0m\n\u001b[1;32m     22\u001b[0m \u001b[0;34m\u001b[0m\u001b[0m\n", 
                        "\u001b[0;32m~/conda/envs/python/lib/python3.6/site-packages/pandas/compat/_optional.py\u001b[0m in \u001b[0;36mimport_optional_dependency\u001b[0;34m(name, extra, raise_on_missing, on_version)\u001b[0m\n\u001b[1;32m     91\u001b[0m     \u001b[0;32mexcept\u001b[0m \u001b[0mImportError\u001b[0m\u001b[0;34m:\u001b[0m\u001b[0;34m\u001b[0m\u001b[0;34m\u001b[0m\u001b[0m\n\u001b[1;32m     92\u001b[0m         \u001b[0;32mif\u001b[0m \u001b[0mraise_on_missing\u001b[0m\u001b[0;34m:\u001b[0m\u001b[0;34m\u001b[0m\u001b[0;34m\u001b[0m\u001b[0m\n\u001b[0;32m---> 93\u001b[0;31m             \u001b[0;32mraise\u001b[0m \u001b[0mImportError\u001b[0m\u001b[0;34m(\u001b[0m\u001b[0mmessage\u001b[0m\u001b[0;34m.\u001b[0m\u001b[0mformat\u001b[0m\u001b[0;34m(\u001b[0m\u001b[0mname\u001b[0m\u001b[0;34m=\u001b[0m\u001b[0mname\u001b[0m\u001b[0;34m,\u001b[0m \u001b[0mextra\u001b[0m\u001b[0;34m=\u001b[0m\u001b[0mextra\u001b[0m\u001b[0;34m)\u001b[0m\u001b[0;34m)\u001b[0m \u001b[0;32mfrom\u001b[0m \u001b[0;32mNone\u001b[0m\u001b[0;34m\u001b[0m\u001b[0;34m\u001b[0m\u001b[0m\n\u001b[0m\u001b[1;32m     94\u001b[0m         \u001b[0;32melse\u001b[0m\u001b[0;34m:\u001b[0m\u001b[0;34m\u001b[0m\u001b[0;34m\u001b[0m\u001b[0m\n\u001b[1;32m     95\u001b[0m             \u001b[0;32mreturn\u001b[0m \u001b[0;32mNone\u001b[0m\u001b[0;34m\u001b[0m\u001b[0;34m\u001b[0m\u001b[0m\n", 
                        "\u001b[0;31mImportError\u001b[0m: Missing optional dependency 'xlrd'. Install xlrd >= 1.0.0 for Excel support Use pip or conda to install xlrd."
                    ], 
                    "output_type": "error"
                }
            ], 
            "metadata": {
                "jupyter": {
                    "outputs_hidden": false
                }, 
                "deletable": true, 
                "button": false, 
                "new_sheet": false, 
                "run_control": {
                    "read_only": false
                }, 
                "collapsed": false
            }
        }, 
        {
            "source": "Let's view the top 5 rows of the dataset using the `head()` function.", 
            "cell_type": "markdown", 
            "metadata": {
                "button": false, 
                "new_sheet": false, 
                "run_control": {
                    "read_only": false
                }, 
                "deletable": true
            }
        }, 
        {
            "execution_count": null, 
            "cell_type": "code", 
            "source": "df_can.head()\n# tip: You can specify the number of rows you'd like to see as follows: df_can.head(10) ", 
            "outputs": [], 
            "metadata": {
                "jupyter": {
                    "outputs_hidden": false
                }, 
                "deletable": true, 
                "button": false, 
                "new_sheet": false, 
                "run_control": {
                    "read_only": false
                }, 
                "collapsed": false
            }
        }, 
        {
            "source": "We can also veiw the bottom 5 rows of the dataset using the `tail()` function.", 
            "cell_type": "markdown", 
            "metadata": {
                "button": false, 
                "new_sheet": false, 
                "run_control": {
                    "read_only": false
                }, 
                "deletable": true
            }
        }, 
        {
            "execution_count": 4, 
            "cell_type": "code", 
            "source": "df_can.tail()", 
            "outputs": [
                {
                    "ename": "NameError", 
                    "evalue": "name 'df_can' is not defined", 
                    "traceback": [
                        "\u001b[0;31m---------------------------------------------------------------------------\u001b[0m", 
                        "\u001b[0;31mNameError\u001b[0m                                 Traceback (most recent call last)", 
                        "\u001b[0;32m<ipython-input-4-52dac9ae79aa>\u001b[0m in \u001b[0;36m<module>\u001b[0;34m\u001b[0m\n\u001b[0;32m----> 1\u001b[0;31m \u001b[0mdf_can\u001b[0m\u001b[0;34m.\u001b[0m\u001b[0mtail\u001b[0m\u001b[0;34m(\u001b[0m\u001b[0;34m)\u001b[0m\u001b[0;34m\u001b[0m\u001b[0;34m\u001b[0m\u001b[0m\n\u001b[0m", 
                        "\u001b[0;31mNameError\u001b[0m: name 'df_can' is not defined"
                    ], 
                    "output_type": "error"
                }
            ], 
            "metadata": {
                "jupyter": {
                    "outputs_hidden": false
                }, 
                "deletable": true, 
                "button": false, 
                "new_sheet": false, 
                "run_control": {
                    "read_only": false
                }, 
                "collapsed": false
            }
        }, 
        {
            "source": "When analyzing a dataset, it's always a good idea to start by getting basic information about your dataframe. We can do this by using the `info()` method.", 
            "cell_type": "markdown", 
            "metadata": {
                "button": false, 
                "new_sheet": false, 
                "run_control": {
                    "read_only": false
                }, 
                "deletable": true
            }
        }, 
        {
            "execution_count": null, 
            "cell_type": "code", 
            "source": "df_can.info()", 
            "outputs": [], 
            "metadata": {
                "scrolled": true, 
                "jupyter": {
                    "outputs_hidden": false
                }, 
                "deletable": true, 
                "run_control": {
                    "read_only": false
                }, 
                "new_sheet": false, 
                "collapsed": false, 
                "button": false
            }
        }, 
        {
            "source": "To get the list of column headers we can call upon the dataframe's `.columns` parameter.", 
            "cell_type": "markdown", 
            "metadata": {
                "button": false, 
                "new_sheet": false, 
                "run_control": {
                    "read_only": false
                }, 
                "deletable": true
            }
        }, 
        {
            "execution_count": null, 
            "cell_type": "code", 
            "source": "df_can.columns.values ", 
            "outputs": [], 
            "metadata": {
                "jupyter": {
                    "outputs_hidden": false
                }, 
                "deletable": true, 
                "button": false, 
                "new_sheet": false, 
                "run_control": {
                    "read_only": false
                }, 
                "collapsed": false
            }
        }, 
        {
            "source": "Similarly, to get the list of indicies we use the `.index` parameter.", 
            "cell_type": "markdown", 
            "metadata": {
                "button": false, 
                "new_sheet": false, 
                "run_control": {
                    "read_only": false
                }, 
                "deletable": true
            }
        }, 
        {
            "execution_count": null, 
            "cell_type": "code", 
            "source": "df_can.index.values", 
            "outputs": [], 
            "metadata": {
                "scrolled": true, 
                "jupyter": {
                    "outputs_hidden": false
                }, 
                "deletable": true, 
                "run_control": {
                    "read_only": false
                }, 
                "new_sheet": false, 
                "collapsed": false, 
                "button": false
            }
        }, 
        {
            "source": "Note: The default type of index and columns is NOT list.", 
            "cell_type": "markdown", 
            "metadata": {
                "button": false, 
                "new_sheet": false, 
                "run_control": {
                    "read_only": false
                }, 
                "deletable": true
            }
        }, 
        {
            "execution_count": null, 
            "cell_type": "code", 
            "source": "print(type(df_can.columns))\nprint(type(df_can.index))", 
            "outputs": [], 
            "metadata": {
                "jupyter": {
                    "outputs_hidden": false
                }, 
                "deletable": true, 
                "button": false, 
                "new_sheet": false, 
                "run_control": {
                    "read_only": false
                }, 
                "collapsed": false
            }
        }, 
        {
            "source": "To get the index and columns as lists, we can use the `tolist()` method.", 
            "cell_type": "markdown", 
            "metadata": {
                "button": false, 
                "new_sheet": false, 
                "run_control": {
                    "read_only": false
                }, 
                "deletable": true
            }
        }, 
        {
            "execution_count": null, 
            "cell_type": "code", 
            "source": "df_can.columns.tolist()\ndf_can.index.tolist()\n\nprint (type(df_can.columns.tolist()))\nprint (type(df_can.index.tolist()))", 
            "outputs": [], 
            "metadata": {
                "jupyter": {
                    "outputs_hidden": false
                }, 
                "deletable": true, 
                "button": false, 
                "new_sheet": false, 
                "run_control": {
                    "read_only": false
                }, 
                "collapsed": false
            }
        }, 
        {
            "source": "To view the dimensions of the dataframe, we use the `.shape` parameter.", 
            "cell_type": "markdown", 
            "metadata": {
                "button": false, 
                "new_sheet": false, 
                "run_control": {
                    "read_only": false
                }, 
                "deletable": true
            }
        }, 
        {
            "execution_count": null, 
            "cell_type": "code", 
            "source": "# size of dataframe (rows, columns)\ndf_can.shape    ", 
            "outputs": [], 
            "metadata": {
                "jupyter": {
                    "outputs_hidden": false
                }, 
                "deletable": true, 
                "button": false, 
                "new_sheet": false, 
                "run_control": {
                    "read_only": false
                }, 
                "collapsed": false
            }
        }, 
        {
            "source": "Note: The main types stored in *pandas* objects are *float*, *int*, *bool*, *datetime64[ns]* and *datetime64[ns, tz] (in >= 0.17.0)*, *timedelta[ns]*, *category (in >= 0.15.0)*, and *object* (string). In addition these dtypes have item sizes, e.g. int64 and int32. ", 
            "cell_type": "markdown", 
            "metadata": {
                "button": false, 
                "new_sheet": false, 
                "run_control": {
                    "read_only": false
                }, 
                "deletable": true
            }
        }, 
        {
            "source": "Let's clean the data set to remove a few unnecessary columns. We can use *pandas* `drop()` method as follows:", 
            "cell_type": "markdown", 
            "metadata": {
                "button": false, 
                "new_sheet": false, 
                "run_control": {
                    "read_only": false
                }, 
                "deletable": true
            }
        }, 
        {
            "execution_count": null, 
            "cell_type": "code", 
            "source": "# in pandas axis=0 represents rows (default) and axis=1 represents columns.\ndf_can.drop(['AREA','REG','DEV','Type','Coverage'], axis=1, inplace=True)\ndf_can.head(2)", 
            "outputs": [], 
            "metadata": {
                "jupyter": {
                    "outputs_hidden": false
                }, 
                "deletable": true, 
                "button": false, 
                "new_sheet": false, 
                "run_control": {
                    "read_only": false
                }, 
                "collapsed": false
            }
        }, 
        {
            "source": "Let's rename the columns so that they make sense. We can use `rename()` method by passing in a dictionary of old and new names as follows:", 
            "cell_type": "markdown", 
            "metadata": {
                "button": false, 
                "new_sheet": false, 
                "run_control": {
                    "read_only": false
                }, 
                "deletable": true
            }
        }, 
        {
            "execution_count": null, 
            "cell_type": "code", 
            "source": "df_can.rename(columns={'OdName':'Country', 'AreaName':'Continent', 'RegName':'Region'}, inplace=True)\ndf_can.columns", 
            "outputs": [], 
            "metadata": {
                "jupyter": {
                    "outputs_hidden": false
                }, 
                "deletable": true, 
                "button": false, 
                "new_sheet": false, 
                "run_control": {
                    "read_only": false
                }, 
                "collapsed": false
            }
        }, 
        {
            "source": "We will also add a 'Total' column that sums up the total immigrants by country over the entire period 1980 - 2013, as follows:", 
            "cell_type": "markdown", 
            "metadata": {
                "button": false, 
                "new_sheet": false, 
                "run_control": {
                    "read_only": false
                }, 
                "deletable": true
            }
        }, 
        {
            "execution_count": null, 
            "cell_type": "code", 
            "source": "df_can['Total'] = df_can.sum(axis=1)", 
            "outputs": [], 
            "metadata": {
                "jupyter": {
                    "outputs_hidden": true
                }, 
                "deletable": true, 
                "button": false, 
                "new_sheet": false, 
                "run_control": {
                    "read_only": false
                }, 
                "collapsed": true
            }
        }, 
        {
            "source": "We can check to see how many null objects we have in the dataset as follows:", 
            "cell_type": "markdown", 
            "metadata": {
                "button": false, 
                "new_sheet": false, 
                "run_control": {
                    "read_only": false
                }, 
                "deletable": true
            }
        }, 
        {
            "execution_count": null, 
            "cell_type": "code", 
            "source": "df_can.isnull().sum()", 
            "outputs": [], 
            "metadata": {
                "scrolled": true, 
                "jupyter": {
                    "outputs_hidden": false
                }, 
                "deletable": true, 
                "run_control": {
                    "read_only": false
                }, 
                "new_sheet": false, 
                "collapsed": false, 
                "button": false
            }
        }, 
        {
            "source": "Finally, let's view a quick summary of each column in our dataframe using the `describe()` method.", 
            "cell_type": "markdown", 
            "metadata": {
                "button": false, 
                "new_sheet": false, 
                "run_control": {
                    "read_only": false
                }, 
                "deletable": true
            }
        }, 
        {
            "execution_count": null, 
            "cell_type": "code", 
            "source": "df_can.describe()", 
            "outputs": [], 
            "metadata": {
                "jupyter": {
                    "outputs_hidden": false
                }, 
                "deletable": true, 
                "button": false, 
                "new_sheet": false, 
                "run_control": {
                    "read_only": false
                }, 
                "collapsed": false
            }
        }, 
        {
            "source": "---\n## *pandas* Intermediate: Indexing and Selection (slicing)<a id=\"6\"></a>\n", 
            "cell_type": "markdown", 
            "metadata": {
                "button": false, 
                "new_sheet": false, 
                "run_control": {
                    "read_only": false
                }, 
                "deletable": true
            }
        }, 
        {
            "source": "### Select Column\n**There are two ways to filter on a column name:**\n\nMethod 1: Quick and easy, but only works if the column name does NOT have spaces or special characters.\n```python\n    df.column_name \n        (returns series)\n```\n\nMethod 2: More robust, and can filter on multiple columns.\n\n```python\n    df['column']  \n        (returns series)\n```\n\n```python \n    df[['column 1', 'column 2']] \n        (returns dataframe)\n```\n---", 
            "cell_type": "markdown", 
            "metadata": {
                "button": false, 
                "new_sheet": false, 
                "run_control": {
                    "read_only": false
                }, 
                "deletable": true
            }
        }, 
        {
            "source": "Example: Let's try filtering on the list of countries ('Country').", 
            "cell_type": "markdown", 
            "metadata": {
                "button": false, 
                "new_sheet": false, 
                "run_control": {
                    "read_only": false
                }, 
                "deletable": true
            }
        }, 
        {
            "execution_count": null, 
            "cell_type": "code", 
            "source": "df_can.Country  # returns a series", 
            "outputs": [], 
            "metadata": {
                "scrolled": true, 
                "jupyter": {
                    "outputs_hidden": false
                }, 
                "deletable": true, 
                "run_control": {
                    "read_only": false
                }, 
                "new_sheet": false, 
                "collapsed": false, 
                "button": false
            }
        }, 
        {
            "source": "Let's try filtering on the list of countries ('OdName') and the data for years: 1980 - 1985.", 
            "cell_type": "markdown", 
            "metadata": {
                "button": false, 
                "new_sheet": false, 
                "run_control": {
                    "read_only": false
                }, 
                "deletable": true
            }
        }, 
        {
            "execution_count": null, 
            "cell_type": "code", 
            "source": "df_can[['Country', 1980, 1981, 1982, 1983, 1984, 1985]] # returns a dataframe\n# notice that 'Country' is string, and the years are integers. \n# for the sake of consistency, we will convert all column names to string later on.", 
            "outputs": [], 
            "metadata": {
                "jupyter": {
                    "outputs_hidden": false
                }, 
                "deletable": true, 
                "button": false, 
                "new_sheet": false, 
                "run_control": {
                    "read_only": false
                }, 
                "collapsed": false
            }
        }, 
        {
            "source": "### Select Row\n\nThere are main 3 ways to select rows:\n\n```python\n    df.loc[label]        \n        #filters by the labels of the index/column\n    df.iloc[index]       \n        #filters by the positions of the index/column\n```", 
            "cell_type": "markdown", 
            "metadata": {
                "button": false, 
                "new_sheet": false, 
                "run_control": {
                    "read_only": false
                }, 
                "deletable": true
            }
        }, 
        {
            "source": "Before we proceed, notice that the defaul index of the dataset is a numeric range from 0 to 194. This makes it very difficult to do a query by a specific country. For example to search for data on Japan, we need to know the corressponding index value.\n\nThis can be fixed very easily by setting the 'Country' column as the index using `set_index()` method.", 
            "cell_type": "markdown", 
            "metadata": {
                "button": false, 
                "new_sheet": false, 
                "run_control": {
                    "read_only": false
                }, 
                "deletable": true
            }
        }, 
        {
            "execution_count": null, 
            "cell_type": "code", 
            "source": "df_can.set_index('Country', inplace=True)\n# tip: The opposite of set is reset. So to reset the index, we can use df_can.reset_index()", 
            "outputs": [], 
            "metadata": {
                "scrolled": true, 
                "jupyter": {
                    "outputs_hidden": true
                }, 
                "deletable": true, 
                "run_control": {
                    "read_only": false
                }, 
                "new_sheet": false, 
                "collapsed": true, 
                "button": false
            }
        }, 
        {
            "execution_count": null, 
            "cell_type": "code", 
            "source": "df_can.head(3)", 
            "outputs": [], 
            "metadata": {
                "jupyter": {
                    "outputs_hidden": false
                }, 
                "deletable": true, 
                "button": false, 
                "new_sheet": false, 
                "run_control": {
                    "read_only": false
                }, 
                "collapsed": false
            }
        }, 
        {
            "execution_count": null, 
            "cell_type": "code", 
            "source": "# optional: to remove the name of the index\ndf_can.index.name = None", 
            "outputs": [], 
            "metadata": {
                "jupyter": {
                    "outputs_hidden": true
                }, 
                "deletable": true, 
                "button": false, 
                "new_sheet": false, 
                "run_control": {
                    "read_only": false
                }, 
                "collapsed": true
            }
        }, 
        {
            "source": "Example: Let's view the number of immigrants from Japan (row 87) for the following scenarios:\n    1. The full row data (all columns)\n    2. For year 2013\n    3. For years 1980 to 1985", 
            "cell_type": "markdown", 
            "metadata": {
                "button": false, 
                "new_sheet": false, 
                "run_control": {
                    "read_only": false
                }, 
                "deletable": true
            }
        }, 
        {
            "execution_count": null, 
            "cell_type": "code", 
            "source": "# 1. the full row data (all columns)\nprint(df_can.loc['Japan'])\n\n# alternate methods\nprint(df_can.iloc[87])\nprint(df_can[df_can.index == 'Japan'].T.squeeze())", 
            "outputs": [], 
            "metadata": {
                "scrolled": true, 
                "jupyter": {
                    "outputs_hidden": false
                }, 
                "deletable": true, 
                "run_control": {
                    "read_only": false
                }, 
                "new_sheet": false, 
                "collapsed": false, 
                "button": false
            }
        }, 
        {
            "execution_count": null, 
            "cell_type": "code", 
            "source": "# 2. for year 2013\nprint(df_can.loc['Japan', 2013])\n\n# alternate method\nprint(df_can.iloc[87, 36]) # year 2013 is the last column, with a positional index of 36", 
            "outputs": [], 
            "metadata": {
                "scrolled": true, 
                "jupyter": {
                    "outputs_hidden": false
                }, 
                "deletable": true, 
                "run_control": {
                    "read_only": false
                }, 
                "new_sheet": false, 
                "collapsed": false, 
                "button": false
            }
        }, 
        {
            "execution_count": null, 
            "cell_type": "code", 
            "source": "# 3. for years 1980 to 1985\nprint(df_can.loc['Japan', [1980, 1981, 1982, 1983, 1984, 1984]])\nprint(df_can.iloc[87, [3, 4, 5, 6, 7, 8]])", 
            "outputs": [], 
            "metadata": {
                "jupyter": {
                    "outputs_hidden": false
                }, 
                "deletable": true, 
                "button": false, 
                "new_sheet": false, 
                "run_control": {
                    "read_only": false
                }, 
                "collapsed": false
            }
        }, 
        {
            "source": "Column names that are integers (such as the years) might introduce some confusion. For example, when we are referencing the year 2013, one might confuse that when the 2013th positional index. \n\nTo avoid this ambuigity, let's convert the column names into strings: '1980' to '2013'.", 
            "cell_type": "markdown", 
            "metadata": {
                "button": false, 
                "new_sheet": false, 
                "run_control": {
                    "read_only": false
                }, 
                "deletable": true
            }
        }, 
        {
            "execution_count": null, 
            "cell_type": "code", 
            "source": "df_can.columns = list(map(str, df_can.columns))\n# [print (type(x)) for x in df_can.columns.values] #<-- uncomment to check type of column headers", 
            "outputs": [], 
            "metadata": {
                "jupyter": {
                    "outputs_hidden": true
                }, 
                "deletable": true, 
                "button": false, 
                "new_sheet": false, 
                "run_control": {
                    "read_only": false
                }, 
                "collapsed": true
            }
        }, 
        {
            "source": "Since we converted the years to string, let's declare a variable that will allow us to easily call upon the full range of years:", 
            "cell_type": "markdown", 
            "metadata": {
                "button": false, 
                "new_sheet": false, 
                "run_control": {
                    "read_only": false
                }, 
                "deletable": true
            }
        }, 
        {
            "execution_count": null, 
            "cell_type": "code", 
            "source": "# useful for plotting later on\nyears = list(map(str, range(1980, 2014)))\nyears", 
            "outputs": [], 
            "metadata": {
                "jupyter": {
                    "outputs_hidden": false
                }, 
                "deletable": true, 
                "button": false, 
                "new_sheet": false, 
                "run_control": {
                    "read_only": false
                }, 
                "collapsed": false
            }
        }, 
        {
            "source": "### Filtering based on a criteria\nTo filter the dataframe based on a condition, we simply pass the condition as a boolean vector. \n\nFor example, Let's filter the dataframe to show the data on Asian countries (AreaName = Asia).", 
            "cell_type": "markdown", 
            "metadata": {
                "button": false, 
                "new_sheet": false, 
                "run_control": {
                    "read_only": false
                }, 
                "deletable": true
            }
        }, 
        {
            "execution_count": null, 
            "cell_type": "code", 
            "source": "# 1. create the condition boolean series\ncondition = df_can['Continent'] == 'Asia'\nprint(condition)", 
            "outputs": [], 
            "metadata": {
                "scrolled": true, 
                "jupyter": {
                    "outputs_hidden": false
                }, 
                "deletable": true, 
                "run_control": {
                    "read_only": false
                }, 
                "new_sheet": false, 
                "collapsed": false, 
                "button": false
            }
        }, 
        {
            "execution_count": null, 
            "cell_type": "code", 
            "source": "# 2. pass this condition into the dataFrame\ndf_can[condition]", 
            "outputs": [], 
            "metadata": {
                "jupyter": {
                    "outputs_hidden": false
                }, 
                "deletable": true, 
                "button": false, 
                "new_sheet": false, 
                "run_control": {
                    "read_only": false
                }, 
                "collapsed": false
            }
        }, 
        {
            "execution_count": null, 
            "cell_type": "code", 
            "source": "# we can pass mutliple criteria in the same line. \n# let's filter for AreaNAme = Asia and RegName = Southern Asia\n\ndf_can[(df_can['Continent']=='Asia') & (df_can['Region']=='Southern Asia')]\n\n# note: When using 'and' and 'or' operators, pandas requires we use '&' and '|' instead of 'and' and 'or'\n# don't forget to enclose the two conditions in parentheses", 
            "outputs": [], 
            "metadata": {
                "jupyter": {
                    "outputs_hidden": false
                }, 
                "deletable": true, 
                "button": false, 
                "new_sheet": false, 
                "run_control": {
                    "read_only": false
                }, 
                "collapsed": false
            }
        }, 
        {
            "source": "Before we proceed: let's review the changes we have made to our dataframe.", 
            "cell_type": "markdown", 
            "metadata": {
                "button": false, 
                "new_sheet": false, 
                "run_control": {
                    "read_only": false
                }, 
                "deletable": true
            }
        }, 
        {
            "execution_count": null, 
            "cell_type": "code", 
            "source": "print('data dimensions:', df_can.shape)\nprint(df_can.columns)\ndf_can.head(2)", 
            "outputs": [], 
            "metadata": {
                "scrolled": true, 
                "jupyter": {
                    "outputs_hidden": false
                }, 
                "deletable": true, 
                "run_control": {
                    "read_only": false
                }, 
                "new_sheet": false, 
                "collapsed": false, 
                "button": false
            }
        }, 
        {
            "source": "---\n# Visualizing Data using Matplotlib<a id=\"8\"></a>", 
            "cell_type": "markdown", 
            "metadata": {
                "button": false, 
                "new_sheet": false, 
                "run_control": {
                    "read_only": false
                }, 
                "deletable": true
            }
        }, 
        {
            "source": "## Matplotlib: Standard Python Visualization Library<a id=\"10\"></a>\n\nThe primary plotting library we will explore in the course is [Matplotlib](http://matplotlib.org/).  As mentioned on their website: \n>Matplotlib is a Python 2D plotting library which produces publication quality figures in a variety of hardcopy formats and interactive environments across platforms. Matplotlib can be used in Python scripts, the Python and IPython shell, the jupyter notebook, web application servers, and four graphical user interface toolkits.\n\nIf you are aspiring to create impactful visualization with python, Matplotlib is an essential tool to have at your disposal.", 
            "cell_type": "markdown", 
            "metadata": {
                "button": false, 
                "new_sheet": false, 
                "run_control": {
                    "read_only": false
                }, 
                "deletable": true
            }
        }, 
        {
            "source": "### Matplotlib.Pyplot\n\nOne of the core aspects of Matplotlib is `matplotlib.pyplot`. It is Matplotlib's scripting layer which we studied in details in the videos about Matplotlib. Recall that it is a collection of command style functions that make Matplotlib work like MATLAB. Each `pyplot` function makes some change to a figure: e.g., creates a figure, creates a plotting area in a figure, plots some lines in a plotting area, decorates the plot with labels, etc. In this lab, we will work with the scripting layer to learn how to generate line plots. In future labs, we will get to work with the Artist layer as well to experiment first hand how it differs from the scripting layer. \n", 
            "cell_type": "markdown", 
            "metadata": {
                "button": false, 
                "new_sheet": false, 
                "run_control": {
                    "read_only": false
                }, 
                "deletable": true
            }
        }, 
        {
            "source": "Let's start by importing `Matplotlib` and `Matplotlib.pyplot` as follows:", 
            "cell_type": "markdown", 
            "metadata": {
                "button": false, 
                "new_sheet": false, 
                "run_control": {
                    "read_only": false
                }, 
                "deletable": true
            }
        }, 
        {
            "execution_count": null, 
            "cell_type": "code", 
            "source": "# we are using the inline backend\n%matplotlib inline \n\nimport matplotlib as mpl\nimport matplotlib.pyplot as plt", 
            "outputs": [], 
            "metadata": {
                "jupyter": {
                    "outputs_hidden": false
                }, 
                "deletable": true, 
                "button": false, 
                "new_sheet": false, 
                "run_control": {
                    "read_only": false
                }, 
                "collapsed": false
            }
        }, 
        {
            "source": "*optional: check if Matplotlib is loaded.", 
            "cell_type": "markdown", 
            "metadata": {
                "button": false, 
                "new_sheet": false, 
                "run_control": {
                    "read_only": false
                }, 
                "deletable": true
            }
        }, 
        {
            "execution_count": null, 
            "cell_type": "code", 
            "source": "print ('Matplotlib version: ', mpl.__version__) # >= 2.0.0", 
            "outputs": [], 
            "metadata": {
                "jupyter": {
                    "outputs_hidden": false
                }, 
                "deletable": true, 
                "button": false, 
                "new_sheet": false, 
                "run_control": {
                    "read_only": false
                }, 
                "collapsed": false
            }
        }, 
        {
            "source": "*optional: apply a style to Matplotlib.", 
            "cell_type": "markdown", 
            "metadata": {
                "button": false, 
                "new_sheet": false, 
                "run_control": {
                    "read_only": false
                }, 
                "deletable": true
            }
        }, 
        {
            "execution_count": null, 
            "cell_type": "code", 
            "source": "print(plt.style.available)\nmpl.style.use(['ggplot']) # optional: for ggplot-like style", 
            "outputs": [], 
            "metadata": {
                "jupyter": {
                    "outputs_hidden": false
                }, 
                "deletable": true, 
                "button": false, 
                "new_sheet": false, 
                "run_control": {
                    "read_only": false
                }, 
                "collapsed": false
            }
        }, 
        {
            "source": "### Plotting in *pandas*\n\nFortunately, pandas has a built-in implementation of Matplotlib that we can use. Plotting in *pandas* is as simple as appending a `.plot()` method to a series or dataframe.\n\nDocumentation:\n- [Plotting with Series](http://pandas.pydata.org/pandas-docs/stable/api.html#plotting)<br>\n- [Plotting with Dataframes](http://pandas.pydata.org/pandas-docs/stable/api.html#api-dataframe-plotting)", 
            "cell_type": "markdown", 
            "metadata": {
                "button": false, 
                "new_sheet": false, 
                "run_control": {
                    "read_only": false
                }, 
                "deletable": true
            }
        }, 
        {
            "source": "# Line Pots (Series/Dataframe) <a id=\"12\"></a>", 
            "cell_type": "markdown", 
            "metadata": {
                "button": false, 
                "new_sheet": false, 
                "run_control": {
                    "read_only": false
                }, 
                "deletable": true
            }
        }, 
        {
            "source": "**What is a line plot and why use it?**\n\nA line chart or line plot is a type of plot which displays information as a series of data points called 'markers' connected by straight line segments. It is a basic type of chart common in many fields.\nUse line plot when you have a continuous data set. These are best suited for trend-based visualizations of data over a period of time.", 
            "cell_type": "markdown", 
            "metadata": {
                "button": false, 
                "new_sheet": false, 
                "run_control": {
                    "read_only": false
                }, 
                "deletable": true
            }
        }, 
        {
            "source": "**Let's start with a case study:**\n\nIn 2010, Haiti suffered a catastrophic magnitude 7.0 earthquake. The quake caused widespread devastation and loss of life and aout three million people were affected by this natural disaster. As part of Canada's humanitarian effort, the Government of Canada stepped up its effort in accepting refugees from Haiti. We can quickly visualize this effort using a `Line` plot:\n\n**Question:** Plot a line graph of immigration from Haiti using `df.plot()`.\n", 
            "cell_type": "markdown", 
            "metadata": {
                "button": false, 
                "new_sheet": false, 
                "run_control": {
                    "read_only": false
                }, 
                "deletable": true
            }
        }, 
        {
            "source": "First, we will extract the data series for Haiti.", 
            "cell_type": "markdown", 
            "metadata": {
                "button": false, 
                "new_sheet": false, 
                "run_control": {
                    "read_only": false
                }, 
                "deletable": true
            }
        }, 
        {
            "execution_count": null, 
            "cell_type": "code", 
            "source": "haiti = df_can.loc['Haiti', years] # passing in years 1980 - 2013 to exclude the 'total' column\nhaiti.head()", 
            "outputs": [], 
            "metadata": {
                "jupyter": {
                    "outputs_hidden": false
                }, 
                "deletable": true, 
                "button": false, 
                "new_sheet": false, 
                "run_control": {
                    "read_only": false
                }, 
                "collapsed": false
            }
        }, 
        {
            "source": "Next, we will plot a line plot by appending `.plot()` to the `haiti` dataframe.", 
            "cell_type": "markdown", 
            "metadata": {
                "button": false, 
                "new_sheet": false, 
                "run_control": {
                    "read_only": false
                }, 
                "deletable": true
            }
        }, 
        {
            "execution_count": null, 
            "cell_type": "code", 
            "source": "haiti.plot()", 
            "outputs": [], 
            "metadata": {
                "jupyter": {
                    "outputs_hidden": false
                }, 
                "deletable": true, 
                "button": false, 
                "new_sheet": false, 
                "run_control": {
                    "read_only": false
                }, 
                "collapsed": false
            }
        }, 
        {
            "source": "*pandas* automatically populated the x-axis with the index values (years), and the y-axis with the column values (population). However, notice how the years were not displayed because they are of type *string*. Therefore, let's change the type of the index values to *integer* for plotting.\n\nAlso, let's label the x and y axis using `plt.title()`, `plt.ylabel()`, and `plt.xlabel()` as follows:", 
            "cell_type": "markdown", 
            "metadata": {
                "button": false, 
                "new_sheet": false, 
                "run_control": {
                    "read_only": false
                }, 
                "deletable": true
            }
        }, 
        {
            "execution_count": null, 
            "cell_type": "code", 
            "source": "haiti.index = haiti.index.map(int) # let's change the index values of Haiti to type integer for plotting\nhaiti.plot(kind='line')\n\nplt.title('Immigration from Haiti')\nplt.ylabel('Number of immigrants')\nplt.xlabel('Years')\n\nplt.show() # need this line to show the updates made to the figure", 
            "outputs": [], 
            "metadata": {
                "scrolled": true, 
                "jupyter": {
                    "outputs_hidden": false
                }, 
                "deletable": true, 
                "run_control": {
                    "read_only": false
                }, 
                "new_sheet": false, 
                "collapsed": false, 
                "button": false
            }
        }, 
        {
            "source": "We can clearly notice how number of immigrants from Haiti spiked up from 2010 as Canada stepped up its efforts to accept refugees from Haiti. Let's annotate this spike in the plot by using the `plt.text()` method.", 
            "cell_type": "markdown", 
            "metadata": {
                "button": false, 
                "new_sheet": false, 
                "run_control": {
                    "read_only": false
                }, 
                "deletable": true
            }
        }, 
        {
            "execution_count": null, 
            "cell_type": "code", 
            "source": "haiti.plot(kind='line')\n\nplt.title('Immigration from Haiti')\nplt.ylabel('Number of Immigrants')\nplt.xlabel('Years')\n\n# annotate the 2010 Earthquake. \n# syntax: plt.text(x, y, label)\nplt.text(2000, 6000, '2010 Earthquake') # see note below\n\nplt.show() ", 
            "outputs": [], 
            "metadata": {
                "jupyter": {
                    "outputs_hidden": false
                }, 
                "deletable": true, 
                "button": false, 
                "new_sheet": false, 
                "run_control": {
                    "read_only": false
                }, 
                "collapsed": false
            }
        }, 
        {
            "source": "With just a few lines of code, you were able to quickly identify and visualize the spike in immigration!\n\nQuick note on x and y values in `plt.text(x, y, label)`:\n    \n     Since the x-axis (years) is type 'integer', we specified x as a year. The y axis (number of immigrants) is type 'integer', so we can just specify the value y = 6000.\n    \n```python\n    plt.text(2000, 6000, '2010 Earthquake') # years stored as type int\n```\n    If the years were stored as type 'string', we would need to specify x as the index position of the year. Eg 20th index is year 2000 since it is the 20th year with a base year of 1980.\n```python\n    plt.text(20, 6000, '2010 Earthquake') # years stored as type int\n```\n    We will cover advanced annotation methods in later modules.", 
            "cell_type": "markdown", 
            "metadata": {
                "button": false, 
                "new_sheet": false, 
                "run_control": {
                    "read_only": false
                }, 
                "deletable": true
            }
        }, 
        {
            "source": "We can easily add more countries to line plot to make meaningful comparisons immigration from different countries. \n\n**Question:** Let's compare the number of immigrants from India and China from 1980 to 2013.\n", 
            "cell_type": "markdown", 
            "metadata": {
                "button": false, 
                "new_sheet": false, 
                "run_control": {
                    "read_only": false
                }, 
                "deletable": true
            }
        }, 
        {
            "source": "Step 1: Get the data set for China and India, and display dataframe.", 
            "cell_type": "markdown", 
            "metadata": {
                "button": false, 
                "new_sheet": false, 
                "run_control": {
                    "read_only": false
                }, 
                "deletable": true
            }
        }, 
        {
            "execution_count": null, 
            "cell_type": "code", 
            "source": "### type your answer here\n\n", 
            "outputs": [], 
            "metadata": {
                "scrolled": true, 
                "jupyter": {
                    "outputs_hidden": false
                }, 
                "deletable": true, 
                "run_control": {
                    "read_only": false
                }, 
                "new_sheet": false, 
                "collapsed": false, 
                "button": false
            }
        }, 
        {
            "source": "Double-click __here__ for the solution.\n<!-- The correct answer is:\ndf_CI = df_can.loc[['India', 'China'], years]\ndf_CI.head()\n-->", 
            "cell_type": "markdown", 
            "metadata": {
                "button": false, 
                "new_sheet": false, 
                "run_control": {
                    "read_only": false
                }, 
                "deletable": true
            }
        }, 
        {
            "source": "Step 2: Plot graph. We will explicitly specify line plot by passing in `kind` parameter to `plot()`.", 
            "cell_type": "markdown", 
            "metadata": {
                "button": false, 
                "new_sheet": false, 
                "run_control": {
                    "read_only": false
                }, 
                "deletable": true
            }
        }, 
        {
            "execution_count": null, 
            "cell_type": "code", 
            "source": "### type your answer here\n\n", 
            "outputs": [], 
            "metadata": {
                "scrolled": true, 
                "jupyter": {
                    "outputs_hidden": false
                }, 
                "deletable": true, 
                "run_control": {
                    "read_only": false
                }, 
                "new_sheet": false, 
                "collapsed": false, 
                "button": false
            }
        }, 
        {
            "source": "Double-click __here__ for the solution.\n<!-- The correct answer is:\ndf_CI.plot(kind='line')\n-->", 
            "cell_type": "markdown", 
            "metadata": {
                "button": false, 
                "new_sheet": false, 
                "run_control": {
                    "read_only": false
                }, 
                "deletable": true
            }
        }, 
        {
            "source": "That doesn't look right...\n\nRecall that *pandas* plots the indices on the x-axis and the columns as individual lines on the y-axis. Since `df_CI` is a dataframe with the `country` as the index and `years` as the columns, we must first transpose the dataframe using `transpose()` method to swap the row and columns.", 
            "cell_type": "markdown", 
            "metadata": {
                "button": false, 
                "new_sheet": false, 
                "run_control": {
                    "read_only": false
                }, 
                "deletable": true
            }
        }, 
        {
            "execution_count": null, 
            "cell_type": "code", 
            "source": "df_CI = df_CI.transpose()\ndf_CI.head()", 
            "outputs": [], 
            "metadata": {
                "jupyter": {
                    "outputs_hidden": false
                }, 
                "deletable": true, 
                "button": false, 
                "new_sheet": false, 
                "run_control": {
                    "read_only": false
                }, 
                "collapsed": false
            }
        }, 
        {
            "source": "*pandas* will auomatically graph the two countries on the same graph. Go ahead and plot the new transposed dataframe. Make sure to add a title to the plot and label the axes.", 
            "cell_type": "markdown", 
            "metadata": {
                "button": false, 
                "new_sheet": false, 
                "run_control": {
                    "read_only": false
                }, 
                "deletable": true
            }
        }, 
        {
            "execution_count": null, 
            "cell_type": "code", 
            "source": "### type your answer here\n\n\n\n", 
            "outputs": [], 
            "metadata": {
                "jupyter": {
                    "outputs_hidden": false
                }, 
                "deletable": true, 
                "button": false, 
                "new_sheet": false, 
                "run_control": {
                    "read_only": false
                }, 
                "collapsed": false
            }
        }, 
        {
            "source": "Double-click __here__ for the solution.\n<!-- The correct answer is:\ndf_CI.index = df_CI.index.map(int) # let's change the index values of df_CI to type integer for plotting\ndf_CI.plot(kind='line')\n-->\n\n<!--\nplt.title('Immigrants from China and India')\nplt.ylabel('Number of Immigrants')\nplt.xlabel('Years')\n-->\n\n<!--\nplt.show()\n--> ", 
            "cell_type": "markdown", 
            "metadata": {
                "button": false, 
                "new_sheet": false, 
                "run_control": {
                    "read_only": false
                }, 
                "deletable": true
            }
        }, 
        {
            "source": "From the above plot, we can observe that the China and India have very similar immigration trends through the years. ", 
            "cell_type": "markdown", 
            "metadata": {
                "button": false, 
                "new_sheet": false, 
                "run_control": {
                    "read_only": false
                }, 
                "deletable": true
            }
        }, 
        {
            "source": "*Note*: How come we didn't need to transpose Haiti's dataframe before plotting (like we did for df_CI)?\n\nThat's because `haiti` is a series as opposed to a dataframe, and has the years as its indices as shown below. \n```python\nprint(type(haiti))\nprint(haiti.head(5))\n```\n>class 'pandas.core.series.Series' <br>\n>1980    1666 <br>\n>1981    3692 <br>\n>1982    3498 <br>\n>1983    2860 <br>\n>1984    1418 <br>\n>Name: Haiti, dtype: int64 <br>", 
            "cell_type": "markdown", 
            "metadata": {
                "button": false, 
                "new_sheet": false, 
                "run_control": {
                    "read_only": false
                }, 
                "deletable": true
            }
        }, 
        {
            "source": "Line plot is a handy tool to display several dependent variables against one independent variable. However, it is recommended that no more than 5-10 lines on a single graph; any more than that and it becomes difficult to interpret.", 
            "cell_type": "markdown", 
            "metadata": {
                "button": false, 
                "new_sheet": false, 
                "run_control": {
                    "read_only": false
                }, 
                "deletable": true
            }
        }, 
        {
            "source": "**Question:** Compare the trend of top 5 countries that contributed the most to immigration to Canada.", 
            "cell_type": "markdown", 
            "metadata": {
                "button": false, 
                "new_sheet": false, 
                "run_control": {
                    "read_only": false
                }, 
                "deletable": true
            }
        }, 
        {
            "execution_count": null, 
            "cell_type": "code", 
            "source": "### type your answer here\n\n\n\n", 
            "outputs": [], 
            "metadata": {
                "jupyter": {
                    "outputs_hidden": false
                }, 
                "deletable": true, 
                "button": false, 
                "new_sheet": false, 
                "run_control": {
                    "read_only": false
                }, 
                "collapsed": false
            }
        }, 
        {
            "source": "Double-click __here__ for the solution.\n<!-- The correct answer is:\n\\\\ # Step 1: Get the dataset. Recall that we created a Total column that calculates the cumulative immigration by country. \\\\ We will sort on this column to get our top 5 countries using pandas sort_values() method.\n\\\\ inplace = True paramemter saves the changes to the original df_can dataframe\ndf_can.sort_values(by='Total', ascending=False, axis=0, inplace=True)\n-->\n\n<!--\n# get the top 5 entries\ndf_top5 = df_can.head(5)\n-->\n\n<!--\n# transpose the dataframe\ndf_top5 = df_top5[years].transpose() \n-->\n\n<!--\nprint(df_top5)\n-->\n\n<!--\n\\\\ # Step 2: Plot the dataframe. To make the plot more readeable, we will change the size using the `figsize` parameter.\ndf_top5.index = df_top5.index.map(int) # let's change the index values of df_top5 to type integer for plotting\ndf_top5.plot(kind='line', figsize=(14, 8)) # pass a tuple (x, y) size\n-->\n\n<!--\nplt.title('Immigration Trend of Top 5 Countries')\nplt.ylabel('Number of Immigrants')\nplt.xlabel('Years')\n-->\n\n<!--\nplt.show()\n-->", 
            "cell_type": "markdown", 
            "metadata": {
                "button": false, 
                "new_sheet": false, 
                "run_control": {
                    "read_only": false
                }, 
                "deletable": true
            }
        }, 
        {
            "source": "### Other Plots\n\nCongratulations! you have learned how to wrangle data with python and create a line plot with Matplotlib. There are many other plotting styles available other than the default Line plot, all of which can be accessed by passing `kind` keyword to `plot()`. The full list of available plots are as follows:\n\n* `bar` for vertical bar plots\n* `barh` for horizontal bar plots\n* `hist` for histogram\n* `box` for boxplot\n* `kde` or `density` for density plots\n* `area` for area plots\n* `pie` for pie plots\n* `scatter` for scatter plots\n* `hexbin` for hexbin plot", 
            "cell_type": "markdown", 
            "metadata": {
                "button": false, 
                "new_sheet": false, 
                "run_control": {
                    "read_only": false
                }, 
                "deletable": true
            }
        }, 
        {
            "source": "### Thank you for completing this lab!\n\nThis notebook was originally created by [Jay Rajasekharan](https://www.linkedin.com/in/jayrajasekharan) with contributions from [Ehsan M. Kermani](https://www.linkedin.com/in/ehsanmkermani), and [Slobodan Markovic](https://www.linkedin.com/in/slobodan-markovic).\n\nThis notebook was recently revised by [Alex Aklson](https://www.linkedin.com/in/aklson/). I hope you found this lab session interesting. Feel free to contact me if you have any questions!", 
            "cell_type": "markdown", 
            "metadata": {
                "button": false, 
                "new_sheet": false, 
                "run_control": {
                    "read_only": false
                }, 
                "deletable": true
            }
        }, 
        {
            "source": "This notebook is part of a course on **Coursera** called *Data Visualization with Python*. If you accessed this notebook outside the course, you can take this course online by clicking [here](http://cocl.us/DV0101EN_Coursera_Week1_LAB1).", 
            "cell_type": "markdown", 
            "metadata": {
                "button": false, 
                "new_sheet": false, 
                "run_control": {
                    "read_only": false
                }, 
                "deletable": true
            }
        }, 
        {
            "source": "<hr>\n\nCopyright &copy; 2019 [Cognitive Class](https://cognitiveclass.ai/?utm_source=bducopyrightlink&utm_medium=dswb&utm_campaign=bdu). This notebook and its source code are released under the terms of the [MIT License](https://bigdatauniversity.com/mit-license/).", 
            "cell_type": "markdown", 
            "metadata": {
                "button": false, 
                "new_sheet": false, 
                "run_control": {
                    "read_only": false
                }, 
                "deletable": true
            }
        }
    ], 
    "nbformat": 4, 
    "metadata": {
        "kernelspec": {
            "display_name": "Python", 
            "name": "conda-env-python-py", 
            "language": "python"
        }, 
        "widgets": {
            "state": {}, 
            "version": "1.1.2"
        }, 
        "language_info": {
            "mimetype": "text/x-python", 
            "nbconvert_exporter": "python", 
            "version": "3.6.7", 
            "name": "python", 
            "file_extension": ".py", 
            "pygments_lexer": "ipython3", 
            "codemirror_mode": {
                "version": 3, 
                "name": "ipython"
            }
        }
    }
}